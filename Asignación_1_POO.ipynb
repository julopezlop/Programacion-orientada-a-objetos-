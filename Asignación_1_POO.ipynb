{
  "nbformat": 4,
  "nbformat_minor": 0,
  "metadata": {
    "colab": {
      "provenance": [],
      "authorship_tag": "ABX9TyOUIvVB/HfU6pVBZ1YdWGX3",
      "include_colab_link": true
    },
    "kernelspec": {
      "name": "python3",
      "display_name": "Python 3"
    },
    "language_info": {
      "name": "python"
    }
  },
  "cells": [
    {
      "cell_type": "markdown",
      "metadata": {
        "id": "view-in-github",
        "colab_type": "text"
      },
      "source": [
        "<a href=\"https://colab.research.google.com/github/julopezlop/Programacion-orientada-a-objetos-/blob/main/Asignaci%C3%B3n_1_POO.ipynb\" target=\"_parent\"><img src=\"https://colab.research.google.com/assets/colab-badge.svg\" alt=\"Open In Colab\"/></a>"
      ]
    },
    {
      "cell_type": "code",
      "execution_count": null,
      "metadata": {
        "id": "VC2xKHGYjRWW"
      },
      "outputs": [],
      "source": []
    },
    {
      "cell_type": "markdown",
      "source": [
        "Ejercicio Resuelto No 4"
      ],
      "metadata": {
        "id": "Tzs8ZOUfkFZu"
      }
    },
    {
      "cell_type": "code",
      "source": [
        "class Familia:\n",
        "  def __init__(self, edjuan):\n",
        "    self.edjuan = edjuan\n",
        "  def alberto(self):\n",
        "    edalber = int(2/3*self.edjuan)\n",
        "    return edalber\n",
        "\n",
        "  def ana(self):\n",
        "    edana = int(4/3*self.edjuan)\n",
        "    return edana\n",
        "\n",
        "  def mama(self):\n",
        "    edmama = self.alberto() + self.ana() + self.edjuan\n",
        "    return edmama\n",
        "  def mostrar_edades(self):\n",
        "     print(f\"LAS EDADES SON: ALBERTO {self.alberto()} JUAN: {self.edjuan} ANA: {self.ana()} MAMA: {self.mama()}\")\n",
        "\n",
        "edjuan = int(input())\n",
        "familia = Familia(edjuan)\n",
        "familia.mostrar_edades()\n",
        "\n"
      ],
      "metadata": {
        "colab": {
          "base_uri": "https://localhost:8080/"
        },
        "id": "xaK9LAbekAYU",
        "outputId": "547db9ec-3acf-4c2c-8a56-a77c6ba9cd8a"
      },
      "execution_count": null,
      "outputs": [
        {
          "output_type": "stream",
          "name": "stdout",
          "text": [
            "9\n",
            "LAS EDADES SON: ALBERTO 6 JUAN: 9 ANA: 12 MAMA: 27\n"
          ]
        }
      ]
    },
    {
      "cell_type": "markdown",
      "source": [
        "Ejercicio Resuelto No 5"
      ],
      "metadata": {
        "id": "_rv3k-KigAVF"
      }
    },
    {
      "cell_type": "code",
      "source": [
        "class EjercicioResuelto5:\n",
        "  def __init__(self):\n",
        "    self.suma = 0\n",
        "    self.x = 0\n",
        "    self.y = 0\n",
        "  def leer_datos(self):\n",
        "    self.x= int(input())\n",
        "    self.y= int(input())\n",
        "  def calcular_suma(self):\n",
        "    self.suma = self.suma + self.x\n",
        "    self.x = self.x + self.y ** 2\n",
        "    self.suma = self.suma + self.x/self.y\n",
        "  def mostrar_resultado(self):\n",
        "    print(f\"EL VALOR DE LA SUMA ES: {self.suma}\")\n",
        "\n",
        "\n",
        "alg = EjercicioResuelto5()\n",
        "alg.leer_datos()\n",
        "alg.calcular_suma()\n",
        "alg.mostrar_resultado()\n",
        "\n",
        "\n",
        "\n",
        "\n",
        "\n",
        "\n",
        "\n",
        "\n"
      ],
      "metadata": {
        "id": "nXejJ8YDoWeI",
        "colab": {
          "base_uri": "https://localhost:8080/"
        },
        "outputId": "09ee7cac-bce2-4a24-e071-6404f18ecc5b"
      },
      "execution_count": null,
      "outputs": [
        {
          "output_type": "stream",
          "name": "stdout",
          "text": [
            "20\n",
            "40\n",
            "EL VALOR DE LA SUMA ES: 60.5\n"
          ]
        }
      ]
    },
    {
      "cell_type": "markdown",
      "source": [
        "Ejercicio Resuelto No 12"
      ],
      "metadata": {
        "id": "iYdE-_m-gFTA"
      }
    },
    {
      "cell_type": "code",
      "source": [
        "class EjercicioResuelto12:\n",
        "  def __init__(self):\n",
        "    self.horas = 0\n",
        "    self.valorHora = 0\n",
        "\n",
        "  def leer_datos(self):\n",
        "    self.horas= int(input(\"Ingrese las horas trabajadas: \"))\n",
        "    self.valorHora= int(input(\"Ingrese el valor/hora de su trabajo: \"))\n",
        "\n",
        "  def calculo_salario_bruto(self):\n",
        "    salarioBruto = self.horas* self.valorHora\n",
        "    salarioBruto = salarioBruto * 3\n",
        "    return salarioBruto\n",
        "\n",
        "  def calculo_retencion_fuente(self):\n",
        "    retencion = self.calculo_salario_bruto()  * 0.125\n",
        "    return retencion\n",
        "\n",
        "  def calculo_salario_neto(self):\n",
        "    salarioNeto = self.calculo_salario_bruto() - self.calculo_retencion_fuente()\n",
        "    return salarioNeto\n",
        "\n",
        "  def mostrar_resultados(self):\n",
        "     print(f\"El salario bruto del trabajador es: {self.calculo_salario_bruto()}$, retención de la fuente: {int(self.calculo_retencion_fuente())}$, salario neto: {int(self.calculo_salario_neto())}$\")\n",
        "\n",
        "alg = EjercicioResuelto12()\n",
        "alg.leer_datos()\n",
        "alg.mostrar_resultados()"
      ],
      "metadata": {
        "colab": {
          "base_uri": "https://localhost:8080/"
        },
        "id": "ExaWq6kAo3zX",
        "outputId": "6791fe4b-ffcb-4658-9685-9482ddd71192"
      },
      "execution_count": 14,
      "outputs": [
        {
          "output_type": "stream",
          "name": "stdout",
          "text": [
            "Ingrese las horas trabajadas: 48\n",
            "Ingrese el valor/hora de su trabajo: 5000\n",
            "El salario bruto del trabajador es: 720000$, retención de la fuente: 90000$, salario neto: 630000$\n"
          ]
        }
      ]
    },
    {
      "cell_type": "markdown",
      "source": [
        "Ejercicio Resuelto No 14"
      ],
      "metadata": {
        "id": "lXGrkkeZgIBD"
      }
    },
    {
      "cell_type": "code",
      "source": [
        "class EjercicioResuelto14:\n",
        "  def __init__(self):\n",
        "    self.numero = 0\n",
        "  def Pedir_datos(self):\n",
        "    self.numero = int(input(\"ingrese un número \"))\n",
        "  def Calcular_cuadrado(self):\n",
        "    cuadrado = self.numero**2\n",
        "    return cuadrado\n",
        "  def Calcular_cubo(self):\n",
        "    cubo = self.numero**3\n",
        "    return cubo\n",
        "  def Mostrar_datos(self):\n",
        "    print(f\"El numero: {self.numero}, tiene como cuadrado: {self.Calcular_cuadrado()} y tiene como cubo: {self.Calcular_cubo()}\")\n",
        "\n",
        "alg = EjercicioResuelto14()\n",
        "alg.Pedir_datos()\n",
        "alg.Mostrar_datos()\n",
        "\n",
        "\n"
      ],
      "metadata": {
        "colab": {
          "base_uri": "https://localhost:8080/"
        },
        "id": "aouakRJ8Z2Ry",
        "outputId": "91a83305-8803-40ab-b592-75cf9ed9c179"
      },
      "execution_count": 5,
      "outputs": [
        {
          "output_type": "stream",
          "name": "stdout",
          "text": [
            "ingrese un número 6\n",
            "El numero: 6, tiene como cuadrado: 36 y tiene como cubo: 216\n"
          ]
        }
      ]
    },
    {
      "cell_type": "markdown",
      "source": [
        "Ejercicio Resuelto No 17"
      ],
      "metadata": {
        "id": "d8tya5ChgJsA"
      }
    },
    {
      "cell_type": "code",
      "source": [
        "from math import pi\n",
        "class EjercicioResuelto17:\n",
        "  def __init__(self,radio) :\n",
        "    self.radio = radio\n",
        "  def Calculo_area_circulo(self):\n",
        "    area = pi*self.radio**2\n",
        "    return area\n",
        "  def Calcular_longitud_circunferencia(self):\n",
        "    longitud = 2*pi*self.radio\n",
        "    return longitud\n",
        "  def Mostrar_datos(self):\n",
        "    print(f\"El círculo con radio: {self.radio}, tiene como área: {round(self.Calculo_area_circulo(), 2)} y como longitud: {round(self.Calcular_longitud_circunferencia(),2)}\")\n",
        "\n",
        "radius = int(input(\"Ingrese el radio de un círculo: \"))\n",
        "\n",
        "alg = EjercicioResuelto17(radius)\n",
        "alg.Mostrar_datos()"
      ],
      "metadata": {
        "colab": {
          "base_uri": "https://localhost:8080/"
        },
        "id": "cypxogE6ctLC",
        "outputId": "ae88a8f6-b45b-4efa-d848-741493ab23c4"
      },
      "execution_count": 11,
      "outputs": [
        {
          "output_type": "stream",
          "name": "stdout",
          "text": [
            "Ingrese el radio de un círculo: 4\n",
            "El círculo con radio: 4, tiene como área: 50.27 y como longitud: 25.13\n"
          ]
        }
      ]
    }
  ]
}