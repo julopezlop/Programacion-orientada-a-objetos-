{
  "nbformat": 4,
  "nbformat_minor": 0,
  "metadata": {
    "colab": {
      "provenance": [],
      "include_colab_link": true
    },
    "kernelspec": {
      "name": "python3",
      "display_name": "Python 3"
    },
    "language_info": {
      "name": "python"
    }
  },
  "cells": [
    {
      "cell_type": "markdown",
      "metadata": {
        "id": "view-in-github",
        "colab_type": "text"
      },
      "source": [
        "<a href=\"https://colab.research.google.com/github/julopezlop/Programacion-orientada-a-objetos-/blob/main/Actividad_2_Programaci%C3%B3n_orientada_a_objetos.ipynb\" target=\"_parent\"><img src=\"https://colab.research.google.com/assets/colab-badge.svg\" alt=\"Open In Colab\"/></a>"
      ]
    },
    {
      "cell_type": "markdown",
      "source": [],
      "metadata": {
        "id": "2e1Zw9xx2rr-"
      }
    },
    {
      "cell_type": "markdown",
      "source": [
        "Ejercicio 2.1 página 63"
      ],
      "metadata": {
        "id": "d_uZUvfJyBP2"
      }
    },
    {
      "cell_type": "code",
      "execution_count": null,
      "metadata": {
        "id": "P74e2Jn-tww7",
        "colab": {
          "base_uri": "https://localhost:8080/"
        },
        "outputId": "084eb86b-2fe3-4066-e1de-da5573787c58"
      },
      "outputs": [
        {
          "output_type": "stream",
          "name": "stdout",
          "text": [
            "Nombre: Carlos\n",
            "Apellido: Mario\n",
            "Documento de identidad: 12345678\n",
            "Año de nacimiento: 1814\n",
            "\n",
            "Nombre: Usnavy\n",
            "Apellido: Osorio\n",
            "Documento de identidad: 98765432\n",
            "Año de nacimiento: 1999\n",
            "\n"
          ]
        }
      ],
      "source": [
        "class Persona:\n",
        "  def __init__(self,nombre, apellido,documento,year_born):\n",
        "    self.nombre= nombre\n",
        "    self.apellido= apellido\n",
        "    self.documento= documento\n",
        "    self.year_born= year_born\n",
        "\n",
        "  def MostrarDatos(self):\n",
        "    print(f\"Nombre: {self.nombre}\")\n",
        "    print(f\"Apellido: {self.apellido}\")\n",
        "    print(f\"Documento de identidad: {self.documento}\")\n",
        "    print(f\"Año de nacimiento: {self.year_born}\\n\")\n",
        "\n",
        "def main():\n",
        "    persona_1 = Persona(\"Carlos\",\"Mario\", \"12345678\",\"1814\")\n",
        "    persona_2 = Persona(\"Usnavy\", \"Osorio\", \"98765432\", \"1999\")\n",
        "    persona_1.MostrarDatos()\n",
        "    persona_2.MostrarDatos()\n",
        "\n",
        "if __name__ == \"__main__\":\n",
        "    main()"
      ]
    },
    {
      "cell_type": "markdown",
      "source": [
        "Ejercicio 2.2 Página 66\n"
      ],
      "metadata": {
        "id": "vHZKGZx1yQLZ"
      }
    },
    {
      "cell_type": "code",
      "source": [
        "# @title\n",
        "from enum import Enum\n",
        "class TipoPlaneta(Enum):\n",
        "  GASEOSO = \"Gaseoso\"\n",
        "  TERRESTRE = \"Terrestre\"\n",
        "  ENANO = \"Enano\"\n",
        "\n",
        "class Planeta:\n",
        "  def __init__(self, Nombre= None, N_satelites = 0, Masa=0, Volumen=0, Diametro=0, Dis_sol=0, Tipo=TipoPlaneta.ENANO, simple_view=False):\n",
        "    self.Nombre = Nombre\n",
        "    self.N_satelites = N_satelites\n",
        "    self.Masa = Masa\n",
        "    self.Volumen = Volumen\n",
        "    self.Diametro = Diametro\n",
        "    self.Dis_sol = Dis_sol\n",
        "    self.Tipo = Tipo\n",
        "    self.simple_view = simple_view\n",
        "\n",
        "  def MostrarDatos(self):\n",
        "    print(f\"Nombre: {self.Nombre}\")\n",
        "    print(f\"Numero de satélites: {self.N_satelites}\")\n",
        "    print(f\"Masa: {self.Masa}\")\n",
        "    print(f\"Volumen: {self.Volumen}\")\n",
        "    print(f\"Diametro: {self.Diametro}\")\n",
        "    print(f\"Distancia al sol: {self.Dis_sol}\")\n",
        "    print(f\"Tipo: {self.Tipo}\")\n",
        "    print(f\"Visto a simple vista: {self.simple_view}\")\n",
        "\n",
        "  def calculo_densidad(self):\n",
        "    densidad = self.Masa/self.Volumen\n",
        "    return densidad\n",
        "\n",
        "  def Es_exterior(self):\n",
        "    limite = 149597870 * 3.4\n",
        "    if self.Dis_sol > limite:\n",
        "      return True\n",
        "    else:\n",
        "      return False\n",
        "def main():\n",
        "  planeta_1 = Planeta(\"Tierra\", 1, 59736e24, 1.08321e12,12742,150000000,TipoPlaneta.TERRESTRE,True)\n",
        "  planeta_2 = Planeta(\"Marte\", 2, 6.39e23, 1.631e11, 6779, 228e6, TipoPlaneta.TERRESTRE, True )\n",
        "  # planeta_1.MostrarDatos()\n",
        "  # planeta_2.MostrarDatos()\n",
        "  for planeta in [planeta_1,planeta_2]:\n",
        "    planeta.MostrarDatos()\n",
        "    print(f\"Densidad planeta: {planeta.calculo_densidad():.2e} kg/km^3\")\n",
        "    print(f\"¿Es exterior? {'Si' if planeta.Es_exterior() else 'No'}\\n\")\n",
        "if __name__ == \"__main__\":\n",
        "  main()\n"
      ],
      "metadata": {
        "colab": {
          "base_uri": "https://localhost:8080/"
        },
        "id": "nCRX1lZyVd5Z",
        "outputId": "aeead75d-97c3-4c26-d091-6ed8118635d3"
      },
      "execution_count": null,
      "outputs": [
        {
          "output_type": "stream",
          "name": "stdout",
          "text": [
            "Nombre: Tierra\n",
            "Numero de satélites: 1\n",
            "Masa: 5.9736e+28\n",
            "Volumen: 1083210000000.0\n",
            "Diametro: 12742\n",
            "Distancia al sol: 150000000\n",
            "Tipo: TipoPlaneta.TERRESTRE\n",
            "Visto a simple vista: True\n",
            "Densidad planeta: 5.51e+16 kg/km^3\n",
            "¿Es exterior? No\n",
            "\n",
            "Nombre: Marte\n",
            "Numero de satélites: 2\n",
            "Masa: 6.39e+23\n",
            "Volumen: 163100000000.0\n",
            "Diametro: 6779\n",
            "Distancia al sol: 228000000.0\n",
            "Tipo: TipoPlaneta.TERRESTRE\n",
            "Visto a simple vista: True\n",
            "Densidad planeta: 3.92e+12 kg/km^3\n",
            "¿Es exterior? No\n",
            "\n"
          ]
        }
      ]
    },
    {
      "cell_type": "markdown",
      "source": [
        "Ejercico 2.3 página 66"
      ],
      "metadata": {
        "id": "BeM-fmdFyW-5"
      }
    },
    {
      "cell_type": "code",
      "source": [
        "from enum import Enum\n",
        "class Color(Enum):\n",
        "  blanco = \"blanco\"\n",
        "  negro = \"negro\"\n",
        "  rojo = \"rojo\"\n",
        "  naranja = \"naranja\"\n",
        "  amarillo = \"amarillo\"\n",
        "  verde = \"verde\"\n",
        "  azul = \"azul\"\n",
        "  violeta = \"violeta\"\n",
        "class TipoCombustible(Enum):\n",
        "  gasolina = \"gasolina\"\n",
        "  diesel = \"diesel\"\n",
        "  biodiesel = \"biodesel\"\n",
        "  gas_natural = \"gas natural\"\n",
        "  bioetanol = \"bioetanol\"\n",
        "\n",
        "class TipoAutomovil(Enum):\n",
        "  carro_ciudad = \"carro de ciudad\"\n",
        "  subcompacto = \"subcompacto\"\n",
        "  compacto = \"compacto\"\n",
        "  familiar = \"familiar\"\n",
        "  ejecutivo = \"ejecutivo\"\n",
        "  suv = \"suv\"\n",
        "class Automovil:\n",
        "  def __init__(self, marca, modelo, motor, tipo_combustible: TipoCombustible , tipo_automovil: TipoAutomovil, numero_puertas, cantidad_asientos, velocidad_maxima, color: Color):\n",
        "    self.marca = marca\n",
        "    self.modelo = modelo\n",
        "    self.motor = motor\n",
        "    self.tipo_combustible = tipo_combustible\n",
        "    self.tipo_automovil = tipo_automovil\n",
        "    self.numero_puertas = numero_puertas\n",
        "    self.cantidad_asientos = cantidad_asientos\n",
        "    self.velocidad_maxima = velocidad_maxima\n",
        "    self.color = color\n",
        "\n",
        "    self.velocidad_actual = int(0)\n",
        "\n",
        "  def getMarca(self):\n",
        "    return self.marca\n",
        "  def getModelo(self):\n",
        "    return self.modelo\n",
        "  def getMotor(self):\n",
        "    return self.motor\n",
        "  def getTipo_combustible(self):\n",
        "    return self.tipo_combustible\n",
        "  def getTipo_automovil(self):\n",
        "    return self.tipo_automovil\n",
        "  def getNumero_puertas(self):\n",
        "    return self.numero_puertas\n",
        "  def getCantidad_asientos(self):\n",
        "    return self.cantidad_asientos\n",
        "  def getVelocidad_maxima(self):\n",
        "    return self.velocidad_maxima\n",
        "  def getColor(self):\n",
        "    return self.color\n",
        "  def getVelocidad_actual(self):\n",
        "    return self.velocidad_actual\n",
        "\n",
        "  def setMarca(self, marca):\n",
        "    self.marca = marca\n",
        "  def setModelo(self, modelo):\n",
        "    self.modelo = modelo\n",
        "  def setMotor(self, motor):\n",
        "    self.motor = motor\n",
        "  def setTipo_combustible(self, tipo_combustible):\n",
        "    self.tipo_combustible = tipo_combustible\n",
        "  def setTipo_automovil(self, tipo_automovil):\n",
        "    self.tipo_automovil = tipo_automovil\n",
        "  def setNumero_puertas(self, numero_puertas):\n",
        "    self.numero_puertas = numero_puertas\n",
        "  def setCantidad_asientos(self, cantidad_asientos):\n",
        "    self.cantidad_asientos = cantidad_asientos\n",
        "  def setVelocidad_maxima(self, velocidad_maxima):\n",
        "    self.velocidad_maxima = velocidad_maxima\n",
        "  def setColor(self, color):\n",
        "    self.color = color\n",
        "\n",
        "\n",
        "  def acelerar(self, valor_acelerar):\n",
        "    if self.velocidad_maxima >= self.velocidad_actual + valor_acelerar:\n",
        "      self.velocidad_actual += valor_acelerar\n",
        "      print(\"El auto esta acelerando..\")\n",
        "    else:\n",
        "      print(\"El auto ha alcanzado su maxima velocidad, No puedes acelerar mas\")\n",
        "\n",
        "  def desacelerar(self, valor_desacelerar):\n",
        "    if self.velocidad_actual == 0:\n",
        "      print(\"El auto esta parado, no puedes desacelerar mas\")\n",
        "    elif self.velocidad_actual >= valor_desacelerar:\n",
        "      self.velocidad_actual -= valor_desacelerar\n",
        "      print(\"El auto esta desacelerando..\")\n",
        "      if self.velocidad_actual == 0:\n",
        "        print(\"El auto ha frenado\")\n",
        "    else:\n",
        "      print(\"No puedes tener velocidad negativas!\")\n",
        "  def frenar(self):\n",
        "    if self.velocidad_actual != 0:\n",
        "      print(\"El auto esta frenando..\")\n",
        "      self.velocidad_actual = 0\n",
        "    else:\n",
        "      print(\"El auto ya esta parado\")\n",
        "\n",
        "\n",
        "  def calcularETA(self, distancia):\n",
        "    if self.velocidad_actual == 0:\n",
        "      print(\"El auto no esta en movimiento\")\n",
        "      return None\n",
        "    else: tiempo = distancia / self.velocidad_actual\n",
        "    return tiempo\n",
        "\n",
        "  def mostrarAtributos(self):\n",
        "    print(f\"Marca: {self.getMarca()}\")\n",
        "    print(f\"Modelo: {self.getModelo()}\")\n",
        "    print(f\"Motor: {self.getMotor()}\")\n",
        "    print(f\"Tipo de combustible: {self.getTipo_combustible().value}\")\n",
        "    print(f\"Tipo de automovil: {self.getTipo_automovil().value}\")\n",
        "    print(f\"Numero de puertas: {self.getNumero_puertas()}\")\n",
        "    print(f\"Cantidad de asientos: {self.getCantidad_asientos()}\")\n",
        "    print(f\"Velocidad maxima: {self.getVelocidad_maxima()}\")\n",
        "    print(f\"Color: {self.getColor().value}\")\n",
        "    print(f\"Velocidad actual: {self.getVelocidad_actual()}\")\n",
        "\n",
        "\n",
        "def main():\n",
        "\n",
        "\n",
        "\n",
        "  carro = Automovil(\"Audi\", 2025, 2.0, TipoCombustible.gasolina, TipoAutomovil.familiar, 4, 5, 250, Color.azul)\n",
        "\n",
        "  carro.mostrarAtributos()\n",
        "\n",
        "  carro.acelerar(100)\n",
        "  print(f\"Velocidad: {carro.getVelocidad_actual()} Km/H\")\n",
        "  carro.acelerar(20)\n",
        "  print(f\"Velocidad: {carro.getVelocidad_actual()} Km/H\")\n",
        "  carro.desacelerar(50)\n",
        "  print(f\"Velocidad: {carro.getVelocidad_actual()} Km/H\")\n",
        "  carro.frenar()\n",
        "  print(f\"Velocidad: {carro.getVelocidad_actual()} Km/H\")\n",
        "\n",
        "main()"
      ],
      "metadata": {
        "id": "NmQTk3tAL1m8",
        "colab": {
          "base_uri": "https://localhost:8080/"
        },
        "outputId": "68bdcb1c-165b-463b-e1a6-6a1ed496c370"
      },
      "execution_count": null,
      "outputs": [
        {
          "output_type": "stream",
          "name": "stdout",
          "text": [
            "Marca: Audi\n",
            "Modelo: 2025\n",
            "Motor: 2.0\n",
            "Tipo de combustible: gasolina\n",
            "Tipo de automovil: familiar\n",
            "Numero de puertas: 4\n",
            "Cantidad de asientos: 5\n",
            "Velocidad maxima: 250\n",
            "Color: azul\n",
            "Velocidad actual: 0\n",
            "El auto esta acelerando..\n",
            "Velocidad: 100 Km/H\n",
            "El auto esta acelerando..\n",
            "Velocidad: 120 Km/H\n",
            "El auto esta desacelerando..\n",
            "Velocidad: 70 Km/H\n",
            "El auto esta frenando..\n",
            "Velocidad: 0 Km/H\n"
          ]
        }
      ]
    },
    {
      "cell_type": "markdown",
      "source": [
        "Ejercicio 2.4 página 86"
      ],
      "metadata": {
        "id": "4mPKZX9hybMo"
      }
    },
    {
      "cell_type": "code",
      "source": [
        "import math\n",
        "\n",
        "class Circulo:\n",
        "  def __init__(self, radio):\n",
        "    self.radio = radio\n",
        "\n",
        "  def CalcularArea(self):\n",
        "    area = math.pi * (self.radio ** 2)\n",
        "    return area\n",
        "\n",
        "  def CalcularPerimetro(self):\n",
        "    perimetro = 2 * math.pi * self.radio\n",
        "    return perimetro\n",
        "\n",
        "\n",
        "\n",
        "class Rectangulo:\n",
        "  def __init__(self, base, altura):\n",
        "    self.base = base\n",
        "    self.altura = altura\n",
        "\n",
        "  def CalcularArea(self):\n",
        "    area = self.base * self.altura\n",
        "    return area\n",
        "\n",
        "  def CalcularPerimetro(self):\n",
        "    perimetro = 2 * (self.base + self.altura)\n",
        "    return perimetro\n",
        "\n",
        "class Cuadrado:\n",
        "  def __init__(self, lado):\n",
        "    self.lado = lado\n",
        "\n",
        "  def CalcularArea(self):\n",
        "    area = self.lado ** 2\n",
        "    return area\n",
        "\n",
        "  def CalcularPerimetro(self):\n",
        "    perimetro = 4 * self.lado\n",
        "    return perimetro\n",
        "\n",
        "\n",
        "class TrianguloRectangulo:\n",
        "  def __init__(self, base, altura):\n",
        "    self.base = base\n",
        "    self.altura = altura\n",
        "\n",
        "  def CalcularHipotenusa(self):\n",
        "    hipotenusa = math.sqrt((self.base ** 2) + (self.altura ** 2))\n",
        "    return hipotenusa\n",
        "\n",
        "  def CalcularArea(self):\n",
        "    area = (self.base * self.altura) / 2\n",
        "    return area\n",
        "\n",
        "  def CalcularPerimetro(self):\n",
        "    perimetro = self.base + self.altura + self.CalcularHipotenusa()\n",
        "    return perimetro\n",
        "  def TipoDeTriangulo(self):\n",
        "    if self.base == self.altura and self.base == self.CalcularHipotenusa() and self.altura == self.CalcularHipotenusa():\n",
        "      return \"Equilatero\"\n",
        "    elif self.base == self.altura or self.base == self.CalcularHipotenusa() or self.altura == self.CalcularHipotenusa():\n",
        "      return \"Isosceles\"\n",
        "    else:\n",
        "      return \"Escaleno\"\n",
        "\n",
        "\n",
        "class Principal:\n",
        "    def programa_principal():\n",
        "      circulo = Circulo(3)\n",
        "      print(f\"Radio del circulo:{circulo.radio}\")\n",
        "      print(f\"Area del circulo:{round(circulo.CalcularArea(), 2)}\")\n",
        "      print(f\"Perimetro del circulo:{round(circulo.CalcularPerimetro(),2 )}\\n\")\n",
        "      #Use round para evitar muchos decimales\n",
        "\n",
        "      rectangulo = Rectangulo(2,4)\n",
        "      print(f\"Base y altura del rectangulo:{rectangulo.base} y {rectangulo.altura}\")\n",
        "      print(f\"Area del rectangulo:{rectangulo.CalcularArea()}\")\n",
        "      print(f\"Perimetro del rectangulo:{rectangulo.CalcularPerimetro()}\\n\")\n",
        "\n",
        "      cuadrado = Cuadrado(2)\n",
        "      print(f\"El lado del cuadrado es:{cuadrado.lado}\")\n",
        "      print(f\"El area del cuadrado es:{cuadrado.CalcularArea()}\")\n",
        "      print(f\"El perimetro del cuadrado es:{cuadrado.CalcularPerimetro()}\\n\")\n",
        "\n",
        "      triangulo = TrianguloRectangulo(3,4)\n",
        "      print(f\"Base y altura del triangulo:{triangulo.base} y {triangulo.altura}\")\n",
        "      print(f\"Hipotenusa del triangulo:{triangulo.CalcularHipotenusa()}\")\n",
        "      print(f\"Area del triangulo:{triangulo.CalcularArea()}\")\n",
        "      print(f\"Perimetro del triangulo:{triangulo.CalcularPerimetro()}\")\n",
        "      print(f\"Tipo de triangulo:{triangulo.TipoDeTriangulo()}\")\n",
        "\n",
        "Principal.programa_principal()"
      ],
      "metadata": {
        "id": "jDMiJL7ogDrL",
        "colab": {
          "base_uri": "https://localhost:8080/"
        },
        "outputId": "0ed72a5f-fb77-4643-9d7f-aefd981cbbcc"
      },
      "execution_count": null,
      "outputs": [
        {
          "output_type": "stream",
          "name": "stdout",
          "text": [
            "Radio del circulo:3\n",
            "Area del circulo:28.27\n",
            "Perimetro del circulo:18.85\n",
            "\n",
            "Base y altura del rectangulo:2 y 4\n",
            "Area del rectangulo:8\n",
            "Perimetro del rectangulo:12\n",
            "\n",
            "El lado del cuadrado es:2\n",
            "El area del cuadrado es:4\n",
            "El perimetro del cuadrado es:8\n",
            "\n",
            "Base y altura del triangulo:3 y 4\n",
            "Hipotenusa del triangulo:5.0\n",
            "Area del triangulo:6.0\n",
            "Perimetro del triangulo:12.0\n",
            "Tipo de triangulo:Escaleno\n"
          ]
        }
      ]
    },
    {
      "cell_type": "markdown",
      "source": [
        "Ejercicio 2.5 página 95"
      ],
      "metadata": {
        "id": "eSaDtcN-xwbf"
      }
    },
    {
      "cell_type": "code",
      "source": [
        "from enum import Enum\n",
        "class TipoCuenta(Enum):\n",
        "  ahorros = \"ahorros\"\n",
        "  corriente = \"corriente\"\n",
        "\n",
        "class CuentaBancaria:\n",
        "  def __init__(self, Nombre_titular, Apellido_titular, Numero_cuenta, Tipo_cuenta = TipoCuenta.ahorros, Saldo_cuenta = 0):\n",
        "    self.Nombre_titular = Nombre_titular\n",
        "    self.Apellido_titular = Apellido_titular\n",
        "    self.Numero_cuenta = Numero_cuenta\n",
        "    self.Tipo_cuenta = Tipo_cuenta\n",
        "    self.Saldo_cuenta = Saldo_cuenta\n",
        "  def MostrarDatos(self):\n",
        "    print(f\"Nombre del titular: {self.Nombre_titular}\")\n",
        "    print(f\"Apellido del titular: {self.Apellido_titular}\")\n",
        "    print(f\"Número de la cuenta: {self.Numero_cuenta}\")\n",
        "    print(f\"Tipo de cuenta: {self.Tipo_cuenta}\")\n",
        "    print(f\"Saldo de la cuenta: {self.Saldo_cuenta:,}$\")\n",
        "  def ConsignarDinero(self,valorConsignacion):\n",
        "    while True:\n",
        "      if valorConsignacion > 0:\n",
        "        self.Saldo_cuenta += valorConsignacion\n",
        "        return f\"Operación exitosa. Nuevo saldo: {self.Saldo_cuenta}\"\n",
        "        break\n",
        "      else:\n",
        "        print(f\"El valor de la consignacion tiene que ser mayor que 0$\")\n",
        "        valorConsignacion = int(input(\"ingrese el valor de la consignación:\"))\n",
        "\n",
        "  def RetirarDinero(self,valorRetiro):\n",
        "    while True:\n",
        "      if valorRetiro > self.Saldo_cuenta or valorRetiro == 0:\n",
        "        print(f\"No es posible hacer el retiro.\")\n",
        "        valorRetiro = int(input(\"Ingrese el valor a retirar:\"))\n",
        "      else:\n",
        "        self.Saldo_cuenta -= valorRetiro\n",
        "        print(f\"Operación exitosa. Nuevo saldo: {self.Saldo_cuenta:,}$\")\n",
        "        break\n",
        "if __name__ == \"__main__\":\n",
        "  cuenta = CuentaBancaria(\"Carlos\", \"Mogollón\", 12345667789, \"ahorros\")\n",
        "  cuenta.ConsignarDinero(12000)\n",
        "  cuenta.ConsignarDinero(1200000000000000000)\n",
        "  cuenta.RetirarDinero(15000)\n",
        "  cuenta.MostrarDatos()"
      ],
      "metadata": {
        "id": "8tOrmIUWgDpZ",
        "colab": {
          "base_uri": "https://localhost:8080/"
        },
        "outputId": "00557823-b5a0-4d6f-c289-030a3bd59bae"
      },
      "execution_count": null,
      "outputs": [
        {
          "output_type": "stream",
          "name": "stdout",
          "text": [
            "Operación exitosa. Nuevo saldo: 1,199,999,999,999,997,000$\n",
            "Nombre del titular: Carlos\n",
            "Apellido del titular: Mogollón\n",
            "Número de la cuenta: 12345667789\n",
            "Tipo de cuenta: ahorros\n",
            "Saldo de la cuenta: 1,199,999,999,999,997,000$\n"
          ]
        }
      ]
    },
    {
      "cell_type": "markdown",
      "source": [],
      "metadata": {
        "id": "PzYrSD8dVYVg"
      }
    }
  ]
}